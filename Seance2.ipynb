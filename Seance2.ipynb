{
 "cells": [
  {
   "cell_type": "code",
   "execution_count": 5,
   "id": "8667d213",
   "metadata": {},
   "outputs": [
    {
     "name": "stdout",
     "output_type": "stream",
     "text": [
      "please enter your first name Imane\n",
      "Please enter your last name Boukerrouis\n",
      "Your full name is  Boukerrouis Imane\n"
     ]
    }
   ],
   "source": [
    "x = input(\"please enter your first name \")\n",
    "y = input(\"Please enter your last name \")\n",
    "print(\"Your full name is \", y+' '+x)"
   ]
  },
  {
   "cell_type": "code",
   "execution_count": 44,
   "id": "122daf46",
   "metadata": {},
   "outputs": [
    {
     "name": "stdout",
     "output_type": "stream",
     "text": [
      "enter an integer number 5\n",
      "Result  615\n"
     ]
    }
   ],
   "source": [
    "n = input(\"enter an integer number \")\n",
    "n2 = n+n\n",
    "n3 = n+n+n\n",
    "n = int(n)\n",
    "n2 = int(n2)\n",
    "n3 = int(n3)\n",
    "\n",
    "print(\"Result \", n+n2+n3)"
   ]
  },
  {
   "cell_type": "code",
   "execution_count": 13,
   "id": "5128542a",
   "metadata": {},
   "outputs": [
    {
     "name": "stdout",
     "output_type": "stream",
     "text": [
      "Please enter a number 5\n",
      "5  is odd\n"
     ]
    }
   ],
   "source": [
    "z = input(\"Please enter a number \")\n",
    "z = int(z)\n",
    "if z % 2 == 0 :\n",
    "    print(z, \" is even\")\n",
    "else :\n",
    "    print(z, \" is odd\")"
   ]
  },
  {
   "cell_type": "code",
   "execution_count": 19,
   "id": "08a6b270",
   "metadata": {},
   "outputs": [
    {
     "name": "stdout",
     "output_type": "stream",
     "text": [
      "[2002, 2009, 2016, 2023, 2037, 2044, 2051, 2058, 2072, 2079, 2086, 2093, 2107, 2114, 2121, 2128, 2142, 2149, 2156, 2163, 2177, 2184, 2191, 2198, 2212, 2219, 2226, 2233, 2247, 2254, 2261, 2268, 2282, 2289, 2296, 2303, 2317, 2324, 2331, 2338, 2352, 2359, 2366, 2373, 2387, 2394, 2401, 2408, 2422, 2429, 2436, 2443, 2457, 2464, 2471, 2478, 2492, 2499, 2506, 2513, 2527, 2534, 2541, 2548, 2562, 2569, 2576, 2583, 2597, 2604, 2611, 2618, 2632, 2639, 2646, 2653, 2667, 2674, 2681, 2688, 2702, 2709, 2716, 2723, 2737, 2744, 2751, 2758, 2772, 2779, 2786, 2793, 2807, 2814, 2821, 2828, 2842, 2849, 2856, 2863, 2877, 2884, 2891, 2898, 2912, 2919, 2926, 2933, 2947, 2954, 2961, 2968, 2982, 2989, 2996, 3003, 3017, 3024, 3031, 3038, 3052, 3059, 3066, 3073, 3087, 3094, 3101, 3108, 3122, 3129, 3136, 3143, 3157, 3164, 3171, 3178, 3192, 3199, 3206, 3213, 3227, 3234, 3241, 3248, 3262, 3269, 3276, 3283, 3297, 3304, 3311, 3318, 3332, 3339, 3346, 3353, 3367, 3374, 3381, 3388, 3402, 3409, 3416, 3423, 3437, 3444, 3451, 3458, 3472, 3479, 3486, 3493]\n"
     ]
    }
   ],
   "source": [
    "A = []\n",
    "for i in range(2000,3501,1):\n",
    "    if i%7 == 0:\n",
    "        if i%5 == 0 :\n",
    "            i = i+1\n",
    "        elif i%5 != 0 :\n",
    "            A.append(i)\n",
    "    i += 1\n",
    "print(A)"
   ]
  },
  {
   "cell_type": "code",
   "execution_count": 43,
   "id": "172b434b",
   "metadata": {},
   "outputs": [
    {
     "name": "stdout",
     "output_type": "stream",
     "text": [
      "Enter your number : 4\n",
      "The factorial of  4  is  24\n"
     ]
    }
   ],
   "source": [
    "j = 1\n",
    "m = input(\"Enter your number : \")\n",
    "m = int(m)\n",
    "factorial = 1\n",
    "if m == 0:\n",
    "    print(\"The factorial of \", m,\" is \",1)\n",
    "elif m ==1:\n",
    "    print(\"The factorial of \", m,\" is \",1)\n",
    "else:\n",
    "    while j <= m:\n",
    "        factorial *= j\n",
    "        j += 1\n",
    "    print(\"The factorial of \", m,\" is \",factorial)"
   ]
  },
  {
   "cell_type": "code",
   "execution_count": 42,
   "id": "544b5905",
   "metadata": {},
   "outputs": [
    {
     "name": "stdout",
     "output_type": "stream",
     "text": [
      "enter your text : hello team\n",
      "The new text is :  hlota\n"
     ]
    }
   ],
   "source": [
    "B = ''\n",
    "string = input(\"enter your text : \")\n",
    "for i in range(0,len(string)):\n",
    "    if i%2 == 0 :\n",
    "        B = B + string[i]\n",
    "print(\"The new text is : \", B)"
   ]
  },
  {
   "cell_type": "code",
   "execution_count": 40,
   "id": "7c34c5c7",
   "metadata": {},
   "outputs": [
    {
     "name": "stdout",
     "output_type": "stream",
     "text": [
      "price = 300\n",
      "The discount is  90  and the new price is  210\n"
     ]
    }
   ],
   "source": [
    "price = input(\"price = \")\n",
    "discount  = 0\n",
    "price = int(price)\n",
    "if 0 < price < 200 :\n",
    "    discount = 10 * price / 100\n",
    "    price -= discount\n",
    "if 200 <= price < 500 :\n",
    "    discount = 30 * price / 100\n",
    "    price -= discount \n",
    "else :\n",
    "    dicount = 50 * price / 100\n",
    "    price -= discount \n",
    "print(\"The discount is \", round(discount) ,\" and the new price is \", round(price))"
   ]
  }
 ],
 "metadata": {
  "kernelspec": {
   "display_name": "Python 3 (ipykernel)",
   "language": "python",
   "name": "python3"
  },
  "language_info": {
   "codemirror_mode": {
    "name": "ipython",
    "version": 3
   },
   "file_extension": ".py",
   "mimetype": "text/x-python",
   "name": "python",
   "nbconvert_exporter": "python",
   "pygments_lexer": "ipython3",
   "version": "3.9.7"
  }
 },
 "nbformat": 4,
 "nbformat_minor": 5
}
